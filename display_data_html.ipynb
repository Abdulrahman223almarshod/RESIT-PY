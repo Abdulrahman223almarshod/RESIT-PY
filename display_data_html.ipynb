{
 "cells": [
  {
   "cell_type": "code",
   "execution_count": 3,
   "id": "44702332",
   "metadata": {},
   "outputs": [],
   "source": [
    "import csv\n",
    "import statistics\n",
    "\n",
    "def html_stats(csv_file, html_file, title:str = None) -> None:\n",
    "    # Check if the CSV file exists\n",
    "    try:\n",
    "        with open(csv_file, 'r') as file:\n",
    "            reader = csv.DictReader(file)\n",
    "            data = [row for row in reader]\n",
    "    except FileNotFoundError:\n",
    "        raise FileNotFoundError(\"CSV file not found!\")\n",
    "\n",
    "    # Compute statistics for each column\n",
    "    columns = reader.fieldnames\n",
    "    stats = {column: {\"min\": None, \"max\": None, \"mean\": None, \"median\": None} for column in columns}\n",
    "    \n",
    "    for column in columns:\n",
    "        try:\n",
    "            values = [float(row[column]) for row in data if row[column].isdigit()]\n",
    "            stats[column][\"min\"] = min(values)\n",
    "            stats[column][\"max\"] = max(values)\n",
    "            stats[column][\"mean\"] = statistics.mean(values)\n",
    "            stats[column][\"median\"] = statistics.median(values)\n",
    "        except ValueError:\n",
    "            continue\n",
    "    \n",
    "    # Generate HTML content\n",
    "    if title is None:\n",
    "        title = f\"Column statistics for {csv_file}\"\n",
    "    \n",
    "    html_content = f\"<html><head><title>{title}</title></head><body>\"\n",
    "    html_content += f\"<h1>{title}</h1>\"\n",
    "    html_content += \"<table border='1' style='background-color: #f2f2f2;'>\"\n",
    "    html_content += \"<tr><th>Column</th><th>Min</th><th>Max</th><th>Mean</th><th>Median</th></tr>\"\n",
    "    \n",
    "    row_counter = 0\n",
    "    for column, stat in stats.items():\n",
    "        row_style = \"\"\n",
    "        if row_counter == 0:\n",
    "            row_style = \" style='background-color: #add8e6;'\"  # Light blue\n",
    "        elif row_counter == 2:\n",
    "            row_style = \" style='background-color: #90ee90;'\"  # Light green\n",
    "        \n",
    "        html_content += f\"<tr{row_style}><td>{column}</td><td>{stat['min']}</td><td>{stat['max']}</td><td>{stat['mean']}</td><td>{stat['median']}</td></tr>\"\n",
    "        row_counter += 1\n",
    "    \n",
    "    html_content += \"</table></body></html>\"\n",
    "    \n",
    "    # Write HTML content to file\n",
    "    with open(html_file, 'w') as file:\n",
    "        file.write(html_content)\n",
    "\n",
    "# Example usage\n",
    "if __name__ == \"__main__\":\n",
    "    html_stats(\"data.csv\", \"statistics.html\", \"Column statistics for data.csv\")\n"
   ]
  },
  {
   "cell_type": "code",
   "execution_count": null,
   "id": "d8d01867",
   "metadata": {},
   "outputs": [],
   "source": []
  }
 ],
 "metadata": {
  "kernelspec": {
   "display_name": "Python 3 (ipykernel)",
   "language": "python",
   "name": "python3"
  },
  "language_info": {
   "codemirror_mode": {
    "name": "ipython",
    "version": 3
   },
   "file_extension": ".py",
   "mimetype": "text/x-python",
   "name": "python",
   "nbconvert_exporter": "python",
   "pygments_lexer": "ipython3",
   "version": "3.11.5"
  }
 },
 "nbformat": 4,
 "nbformat_minor": 5
}
