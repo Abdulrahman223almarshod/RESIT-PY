{
 "cells": [
  {
   "cell_type": "code",
   "execution_count": 5,
   "id": "aff531a0",
   "metadata": {},
   "outputs": [
    {
     "name": "stdout",
     "output_type": "stream",
     "text": [
      "Alice is a strong independent businesswoman who\n",
      "is very good at her job and she managed to climb up the ladder\n",
      "to become a congresswoman\n",
      "\n"
     ]
    }
   ],
   "source": [
    "import csv\n",
    "import random\n",
    "\n",
    "class Benice:\n",
    "    def __init__(self, data_file, corpus_file):\n",
    "        self.data_file = data_file\n",
    "        self.corpus_file = corpus_file\n",
    "        self.text_data = \"\"\n",
    "        self.word_map = {}\n",
    "        \n",
    "        # Read text file\n",
    "        try:\n",
    "            with open(self.data_file, 'r') as file:\n",
    "                self.text_data = file.read()\n",
    "        except FileNotFoundError:\n",
    "            raise FileNotFoundError(f\"The file {self.data_file} was not found.\")\n",
    "        \n",
    "        # Read CSV file\n",
    "        try:\n",
    "            with open(self.corpus_file, 'r') as file:\n",
    "                reader = csv.reader(file)\n",
    "                for row in reader:\n",
    "                    word, substitutions = row[0], row[1].split('; ')\n",
    "                    self.word_map[word] = substitutions\n",
    "        except FileNotFoundError:\n",
    "            raise FileNotFoundError(f\"The file {self.corpus_file} was not found.\")\n",
    "\n",
    "    def print_file_data(self):\n",
    "        print(self.text_data)\n",
    "    \n",
    "    def print_corpus(self):\n",
    "        for word, substitutions in self.word_map.items():\n",
    "            print(f\"{word}: {', '.join(substitutions)}\")\n",
    "    \n",
    "    def substitute_word(self, word):\n",
    "        if word in self.word_map:\n",
    "            return random.choice(self.word_map[word])\n",
    "        return word\n",
    "    \n",
    "    def generate_new_file(self, output_file):\n",
    "        words = self.text_data.split()\n",
    "        new_text = []\n",
    "        \n",
    "        for word in words:\n",
    "            stripped_word = word.strip('.,!?')\n",
    "            new_word = self.substitute_word(stripped_word)\n",
    "            new_text.append(new_word)\n",
    "        \n",
    "        new_text = ' '.join(new_text)\n",
    "        \n",
    "        with open(output_file, 'w') as file:\n",
    "            file.write(new_text)\n",
    "\n",
    "# Example usage\n",
    "if __name__ == \"__main__\":\n",
    "    benice = Benice(\"testfile2.txt\", \"nice_corpus.csv\")\n",
    "    benice.print_file_data()\n",
    "    print()\n",
    "    benice.generate_new_file(\"test2.txt\")\n"
   ]
  },
  {
   "cell_type": "code",
   "execution_count": null,
   "id": "2ef0fc21",
   "metadata": {},
   "outputs": [],
   "source": []
  }
 ],
 "metadata": {
  "kernelspec": {
   "display_name": "Python 3 (ipykernel)",
   "language": "python",
   "name": "python3"
  },
  "language_info": {
   "codemirror_mode": {
    "name": "ipython",
    "version": 3
   },
   "file_extension": ".py",
   "mimetype": "text/x-python",
   "name": "python",
   "nbconvert_exporter": "python",
   "pygments_lexer": "ipython3",
   "version": "3.11.5"
  }
 },
 "nbformat": 4,
 "nbformat_minor": 5
}
